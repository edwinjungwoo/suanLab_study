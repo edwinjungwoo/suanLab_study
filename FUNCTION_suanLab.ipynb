{
  "nbformat": 4,
  "nbformat_minor": 0,
  "metadata": {
    "colab": {
      "name": "FUNCTION_suanLab.ipynb",
      "provenance": [],
      "collapsed_sections": []
    },
    "kernelspec": {
      "name": "python3",
      "display_name": "Python 3"
    },
    "language_info": {
      "name": "python"
    }
  },
  "cells": [
    {
      "cell_type": "code",
      "execution_count": 1,
      "metadata": {
        "colab": {
          "base_uri": "https://localhost:8080/"
        },
        "id": "NvwmCbL9CCyK",
        "outputId": "4566b11d-18e8-49a7-b6e2-3a1765b4fa53"
      },
      "outputs": [
        {
          "output_type": "stream",
          "name": "stdout",
          "text": [
            "Hello Python\n"
          ]
        }
      ],
      "source": [
        "# 매개변수와 반환값이 없는 함수\n",
        "def hello():\n",
        "  print(\"Hello Python\")\n",
        "\n",
        "hello()"
      ]
    },
    {
      "cell_type": "code",
      "source": [
        "# 매개변수만 있는 함수\n",
        "def hello(string):\n",
        "  print(\"Hello\", string)\n",
        "\n",
        "hello(\"정우\")"
      ],
      "metadata": {
        "colab": {
          "base_uri": "https://localhost:8080/"
        },
        "id": "k3cP5me1F5m3",
        "outputId": "57782f44-0712-494c-a742-39583af74f0c"
      },
      "execution_count": 3,
      "outputs": [
        {
          "output_type": "stream",
          "name": "stdout",
          "text": [
            "Hello 정우\n"
          ]
        }
      ]
    },
    {
      "cell_type": "code",
      "source": [
        "# 반환 값만 있는 함수\n",
        "def hello():\n",
        "  return \"Hello Python\"\n",
        "\n",
        "hello()"
      ],
      "metadata": {
        "colab": {
          "base_uri": "https://localhost:8080/",
          "height": 35
        },
        "id": "NdeuGlAeGK36",
        "outputId": "f7b203e9-435b-41c2-8480-5330541648a7"
      },
      "execution_count": 4,
      "outputs": [
        {
          "output_type": "execute_result",
          "data": {
            "text/plain": [
              "'Hello Python'"
            ],
            "application/vnd.google.colaboratory.intrinsic+json": {
              "type": "string"
            }
          },
          "metadata": {},
          "execution_count": 4
        }
      ]
    },
    {
      "cell_type": "code",
      "source": [
        "# 매개변수와 반환값이 있는 함수\n",
        "def square(num):\n",
        "  return num * num\n",
        "\n",
        "square(5)"
      ],
      "metadata": {
        "colab": {
          "base_uri": "https://localhost:8080/"
        },
        "id": "R4KOAPD6GYSa",
        "outputId": "3c20b71a-702f-4f47-ed11-8d41d0710b9a"
      },
      "execution_count": 5,
      "outputs": [
        {
          "output_type": "execute_result",
          "data": {
            "text/plain": [
              "25"
            ]
          },
          "metadata": {},
          "execution_count": 5
        }
      ]
    },
    {
      "cell_type": "code",
      "source": [
        "# 매개변수가 여러개 있는 함수\n",
        "def add(n1, n2):\n",
        "  return n1 + n2\n",
        "\n",
        "print(add(n2 = 5, n1 = 8))"
      ],
      "metadata": {
        "colab": {
          "base_uri": "https://localhost:8080/"
        },
        "id": "acDsGdw9GiKh",
        "outputId": "f1f8ee03-19a0-47ec-ca52-473b576dc816"
      },
      "execution_count": 9,
      "outputs": [
        {
          "output_type": "stream",
          "name": "stdout",
          "text": [
            "13\n"
          ]
        }
      ]
    },
    {
      "cell_type": "code",
      "source": [
        "# 키워드 매개변수\n",
        "def add(n1, n2):\n",
        "  return n1 + n2\n",
        "\n",
        "print(add(n2 = 5, n1 = 8))"
      ],
      "metadata": {
        "colab": {
          "base_uri": "https://localhost:8080/"
        },
        "id": "72BVyh5BG5Cb",
        "outputId": "3b54094d-774b-4aeb-97ff-6f9a82cb977d"
      },
      "execution_count": 10,
      "outputs": [
        {
          "output_type": "stream",
          "name": "stdout",
          "text": [
            "13\n"
          ]
        }
      ]
    },
    {
      "cell_type": "code",
      "source": [
        "# 가변 매개변수: 매개변수가 몇 개인지 모를 때 사용\n",
        "def sum(*args):\n",
        "  result = 0\n",
        "  for i in args:\n",
        "    result += i\n",
        "  return result\n",
        "\n",
        "print(sum(1, 2, 3, 4, 5))"
      ],
      "metadata": {
        "colab": {
          "base_uri": "https://localhost:8080/"
        },
        "id": "H1hF9tpNG-Zu",
        "outputId": "a5ecd72d-e492-443b-e903-5940e325441f"
      },
      "execution_count": 11,
      "outputs": [
        {
          "output_type": "stream",
          "name": "stdout",
          "text": [
            "15\n"
          ]
        }
      ]
    },
    {
      "cell_type": "code",
      "source": [
        "# 키워드 매개변수 keyword, arguments\n",
        "def print_kwargs(**kwargs):\n",
        "  print(kwargs)\n",
        "\n",
        "print_kwargs(n1 = 5, n2 = 8)\n",
        "print_kwargs(id = \"Jungwoo\", pw = \"1234\")\n",
        "# 딕셔너리 형태로 반환"
      ],
      "metadata": {
        "colab": {
          "base_uri": "https://localhost:8080/"
        },
        "id": "U3jdgQ9qHXtY",
        "outputId": "b1446ce8-515b-42b1-e9af-70c9d5ce2500"
      },
      "execution_count": 13,
      "outputs": [
        {
          "output_type": "stream",
          "name": "stdout",
          "text": [
            "{'n1': 5, 'n2': 8}\n",
            "{'id': 'Jungwoo', 'pw': '1234'}\n"
          ]
        }
      ]
    },
    {
      "cell_type": "code",
      "source": [
        "# 초기값 매개변수(default parameter): 매개변수에 초기값을 설정해 사용\n",
        "def power(b = 2, n = 2):\n",
        "  return pow(b, n)\n",
        "\n",
        "print(power())\n",
        "print(power(3))    # b만 3으로 대체\n",
        "print(power(5, 2))    # 5의 2제곱\n",
        "print(power(n = 3))    # n만 3으로"
      ],
      "metadata": {
        "colab": {
          "base_uri": "https://localhost:8080/"
        },
        "id": "cWFjc9x0IZFs",
        "outputId": "dbb2d37f-8120-4681-8a35-11212ba74383"
      },
      "execution_count": 15,
      "outputs": [
        {
          "output_type": "stream",
          "name": "stdout",
          "text": [
            "4\n",
            "9\n",
            "25\n",
            "8\n"
          ]
        }
      ]
    },
    {
      "cell_type": "code",
      "source": [
        "# 여러 반환 값이 있는 함수\n",
        "def plus_and_minus(n1, n2):\n",
        "  return n1+n2, n1-n2\n",
        "\n",
        "result = plus_and_minus(8, 5)\n",
        "print(result)    # 한번에 받아오면 튜플 형태\n",
        "\n",
        "result1, result2 = plus_and_minus(8, 5)\n",
        "print(result1, result2)    # 나눠서 받아옴"
      ],
      "metadata": {
        "colab": {
          "base_uri": "https://localhost:8080/"
        },
        "id": "x_pGpJ4jIx2h",
        "outputId": "51b15ca8-2213-48bd-fd89-b8254347ee59"
      },
      "execution_count": 17,
      "outputs": [
        {
          "output_type": "stream",
          "name": "stdout",
          "text": [
            "(13, 3)\n",
            "13 3\n"
          ]
        }
      ]
    },
    {
      "cell_type": "code",
      "source": [
        "def calc(op, n1, n2):\n",
        "  result = 0\n",
        "  if op == '+':\n",
        "    result = n1 + n2\n",
        "  elif op == '-':\n",
        "    result = n1 - n2\n",
        "  elif op == '*':\n",
        "    result = n1 * n2\n",
        "  elif op == '/':\n",
        "    result = n1 / n2\n",
        "\n",
        "  return result\n",
        "\n",
        "print(calc('+', 8, 5))\n",
        "print(calc('*', 8, 5))"
      ],
      "metadata": {
        "colab": {
          "base_uri": "https://localhost:8080/"
        },
        "id": "5_6VYOfOJLOv",
        "outputId": "4633355e-557f-4f01-8c8e-3dd2db7fc300"
      },
      "execution_count": 18,
      "outputs": [
        {
          "output_type": "stream",
          "name": "stdout",
          "text": [
            "13\n",
            "40\n"
          ]
        }
      ]
    },
    {
      "cell_type": "code",
      "source": [
        "def mean(*args):  \n",
        "  sum = 0\n",
        "  for i in args:\n",
        "    sum += i\n",
        "  return sum / len(args)\n",
        "\n",
        "mean(1, 7, 5, 8)"
      ],
      "metadata": {
        "colab": {
          "base_uri": "https://localhost:8080/"
        },
        "id": "NbIJiOlwKMfl",
        "outputId": "114fbe8e-d80a-4746-d721-5791fbe3bbe7"
      },
      "execution_count": 21,
      "outputs": [
        {
          "output_type": "execute_result",
          "data": {
            "text/plain": [
              "5.25"
            ]
          },
          "metadata": {},
          "execution_count": 21
        }
      ]
    },
    {
      "cell_type": "code",
      "source": [
        "def avg(*args):\n",
        "  sum = 0\n",
        "  for i in args:\n",
        "    sum += i\n",
        "  return (sum / len(args))\n",
        "\n",
        "print(avg(1, 2, 3, 4, 5))"
      ],
      "metadata": {
        "colab": {
          "base_uri": "https://localhost:8080/"
        },
        "id": "vpUgGTSaKiUa",
        "outputId": "99406702-226a-4c26-fbb2-78c39582c60f"
      },
      "execution_count": 22,
      "outputs": [
        {
          "output_type": "stream",
          "name": "stdout",
          "text": [
            "3.0\n"
          ]
        }
      ]
    },
    {
      "cell_type": "code",
      "source": [
        "# 변수의 유효범위 (지역변수, 전역변수)\n",
        "\n",
        "def var_scope(a):\n",
        "  a = a + 1\n",
        "\n",
        "a = 10\n",
        "var_scope(a)\n",
        "print(a)"
      ],
      "metadata": {
        "colab": {
          "base_uri": "https://localhost:8080/"
        },
        "id": "4BDP1tzULDbe",
        "outputId": "e680edba-e179-4ae2-83e4-21c46ae0898b"
      },
      "execution_count": 23,
      "outputs": [
        {
          "output_type": "stream",
          "name": "stdout",
          "text": [
            "10\n"
          ]
        }
      ]
    },
    {
      "cell_type": "code",
      "source": [
        "a = 10\n",
        "def func1():\n",
        "  a = 20    # 지역변수\n",
        "  print(a)\n",
        "\n",
        "def func2():\n",
        "  print(a)    # a = 10 이라는 전역 변수 출력\n",
        "\n",
        "func1()\n",
        "func2()"
      ],
      "metadata": {
        "colab": {
          "base_uri": "https://localhost:8080/"
        },
        "id": "gpWBaYsvLkwF",
        "outputId": "b44757e8-87c8-443f-8c65-f72ef0924285"
      },
      "execution_count": 28,
      "outputs": [
        {
          "output_type": "stream",
          "name": "stdout",
          "text": [
            "20\n",
            "10\n"
          ]
        }
      ]
    },
    {
      "cell_type": "code",
      "source": [
        "a = 10\n",
        "def func1():\n",
        "  global a    # 함수 내부에서 전역 변수 사용하기 위한 global 키워드\n",
        "  a = 20    \n",
        "  print(a)\n",
        "\n",
        "def func2():\n",
        "  print(a)    # a = 10 이라는 전역 변수 출력\n",
        "\n",
        "func1()\n",
        "func2()"
      ],
      "metadata": {
        "colab": {
          "base_uri": "https://localhost:8080/"
        },
        "id": "v-OOI4RuL1Aq",
        "outputId": "73a85f7a-3916-4cc4-c644-da2ca75d284c"
      },
      "execution_count": 29,
      "outputs": [
        {
          "output_type": "stream",
          "name": "stdout",
          "text": [
            "20\n",
            "20\n"
          ]
        }
      ]
    },
    {
      "cell_type": "code",
      "source": [
        "# 내부 함수 (Nested Function): 함수 안에 함수가 존재, 내부 함수는 외부에서 호출 불가\n",
        "def func1(n1, n2):\n",
        "  def func2(num1, num2):\n",
        "    return num1 + num2\n",
        "  return func2(n1, n2)\n",
        "\n",
        "print(func1(5, 8))\n",
        "# print(func2(5, 8))    외부에서 호출 불가해 에러 발생"
      ],
      "metadata": {
        "colab": {
          "base_uri": "https://localhost:8080/"
        },
        "id": "XUih-RlwMVY-",
        "outputId": "acd8a4b5-35d1-46e7-c72d-e71e25a5f8ae"
      },
      "execution_count": 31,
      "outputs": [
        {
          "output_type": "stream",
          "name": "stdout",
          "text": [
            "13\n"
          ]
        }
      ]
    },
    {
      "cell_type": "code",
      "source": [
        "# 재귀 함수 (Recursive Function): 함수가 자기 자신을 다시 부르는 함수\n",
        "def count(n):\n",
        "  if n >= 1:\n",
        "    print(n, end = ' ')\n",
        "    count(n - 1)\n",
        "  else:\n",
        "    return    # 종료\n",
        "\n",
        "count(10)"
      ],
      "metadata": {
        "colab": {
          "base_uri": "https://localhost:8080/"
        },
        "id": "L8VuJCJ_O97T",
        "outputId": "0e555a30-4ef6-4268-a620-2c1a9d578c03"
      },
      "execution_count": 32,
      "outputs": [
        {
          "output_type": "stream",
          "name": "stdout",
          "text": [
            "10 9 8 7 6 5 4 3 2 1 "
          ]
        }
      ]
    },
    {
      "cell_type": "code",
      "source": [
        "def sum(n):\n",
        "  if n == 1:\n",
        "    return 1\n",
        "  else:\n",
        "    return n + sum(n - 1)\n",
        "  \n",
        "print(sum(10))"
      ],
      "metadata": {
        "colab": {
          "base_uri": "https://localhost:8080/"
        },
        "id": "TkJZzuq6QTdm",
        "outputId": "419ac793-d591-47cb-91cc-9d6ec92c7afe"
      },
      "execution_count": 33,
      "outputs": [
        {
          "output_type": "stream",
          "name": "stdout",
          "text": [
            "55\n"
          ]
        }
      ]
    },
    {
      "cell_type": "code",
      "source": [
        "def factorial(n):\n",
        "  if n == 1:\n",
        "    return 1\n",
        "  else:\n",
        "    return n * factorial(n - 1)\n",
        "\n",
        "print(factorial(3))"
      ],
      "metadata": {
        "colab": {
          "base_uri": "https://localhost:8080/"
        },
        "id": "fCxA1-lCQypc",
        "outputId": "98c339c2-9291-4ee4-eb07-50addbbf9ced"
      },
      "execution_count": 38,
      "outputs": [
        {
          "output_type": "stream",
          "name": "stdout",
          "text": [
            "6\n"
          ]
        }
      ]
    },
    {
      "cell_type": "code",
      "source": [
        "# 람다 함수\n",
        "\n",
        "add = lambda n1, n2 : n1 + n2    # n1, n2를 매개 변수로 받고 n1 + n2를 return으로 받음\n",
        "print(add(5, 8))"
      ],
      "metadata": {
        "colab": {
          "base_uri": "https://localhost:8080/"
        },
        "id": "5JsIj8DgRPpr",
        "outputId": "2c2a150a-6fb0-440b-8abc-2eda6a7c2503"
      },
      "execution_count": 39,
      "outputs": [
        {
          "output_type": "stream",
          "name": "stdout",
          "text": [
            "13\n"
          ]
        }
      ]
    },
    {
      "cell_type": "code",
      "source": [
        "# map (): built-in 함수로 iterable한 데이터를 인자로 받아 list 안의 개별 item을 함수 인자로 전달해 결과를 list로 반환\n",
        "\n",
        "li = [1, 2, 3, 4, 5]\n",
        "square = lambda n : n * n\n",
        "li = list(map(square, li))    \n",
        "\n",
        "print(li)"
      ],
      "metadata": {
        "colab": {
          "base_uri": "https://localhost:8080/"
        },
        "id": "jjClQhulSJNX",
        "outputId": "3921562e-1461-452a-c8bc-f9ad35e840d8"
      },
      "execution_count": 40,
      "outputs": [
        {
          "output_type": "stream",
          "name": "stdout",
          "text": [
            "[1, 4, 9, 16, 25]\n"
          ]
        }
      ]
    },
    {
      "cell_type": "code",
      "source": [
        "li_1 = [1, 2, 3, 4, 5]\n",
        "li_2 = [6, 7, 8, 9, 10]\n",
        "li = list(map(lambda n_1, n_2 : n_1 + n_2, li_1, li_2))\n",
        "print(li)"
      ],
      "metadata": {
        "colab": {
          "base_uri": "https://localhost:8080/"
        },
        "id": "nWbXrrM6ScgE",
        "outputId": "20616889-63d3-4a79-939b-a73cba88a4ff"
      },
      "execution_count": 41,
      "outputs": [
        {
          "output_type": "stream",
          "name": "stdout",
          "text": [
            "[7, 9, 11, 13, 15]\n"
          ]
        }
      ]
    },
    {
      "cell_type": "code",
      "source": [
        "# filter(): iterable을 인자로 개별 item을 특정 조건에 해당하는 값으로만 필터링\n",
        "li = list(range(10))\n",
        "print(li)\n",
        "evens = filter(lambda n : n%2 == 0, li)\n",
        "print(list(evens))"
      ],
      "metadata": {
        "colab": {
          "base_uri": "https://localhost:8080/"
        },
        "id": "mECrXteeTA10",
        "outputId": "bf0b878d-b6d4-4d5e-e971-9494229b3fe0"
      },
      "execution_count": 44,
      "outputs": [
        {
          "output_type": "stream",
          "name": "stdout",
          "text": [
            "[0, 1, 2, 3, 4, 5, 6, 7, 8, 9]\n",
            "[0, 2, 4, 6, 8]\n"
          ]
        }
      ]
    },
    {
      "cell_type": "code",
      "source": [
        "# reduce(): iterable을 인자로 개별 item을 축약해 하나의 값으로 만들어 가는 과정\n",
        "import functools\n",
        "li = list(range(11))\n",
        "sum = functools.reduce(lambda x, y: x + y, li)\n",
        "print(sum)\n",
        "len = functools.reduce(lambda x, y: x + 1, li, 0)\n",
        "print(len)\n",
        "max = functools.reduce(lambda x, y: x if x > y else y, li)\n",
        "print(max)"
      ],
      "metadata": {
        "colab": {
          "base_uri": "https://localhost:8080/"
        },
        "id": "JefnLb0tTUmC",
        "outputId": "b2486faf-f510-4329-cd43-77c6068b2361"
      },
      "execution_count": 51,
      "outputs": [
        {
          "output_type": "stream",
          "name": "stdout",
          "text": [
            "55\n",
            "11\n",
            "10\n"
          ]
        }
      ]
    },
    {
      "cell_type": "code",
      "source": [
        "# generator와 yield(함수를 끝내지 않고 반환)\n",
        "def gen():\n",
        "  yield 1\n",
        "  yield 2\n",
        "  yield 3\n",
        "\n",
        "print(gen())\n",
        "print(list(gen()))"
      ],
      "metadata": {
        "colab": {
          "base_uri": "https://localhost:8080/"
        },
        "id": "RWXq11_HT3DJ",
        "outputId": "66a1547f-d756-4f06-ade1-882ec90c4fc4"
      },
      "execution_count": 53,
      "outputs": [
        {
          "output_type": "stream",
          "name": "stdout",
          "text": [
            "<generator object gen at 0x7fa671098cd0>\n",
            "[1, 2, 3]\n"
          ]
        }
      ]
    },
    {
      "cell_type": "code",
      "source": [
        "for i in gen():\n",
        "  print(i)"
      ],
      "metadata": {
        "colab": {
          "base_uri": "https://localhost:8080/"
        },
        "id": "uM23-emZbEMC",
        "outputId": "5fc3127b-e57d-47a4-bdf8-16134c006c48"
      },
      "execution_count": 54,
      "outputs": [
        {
          "output_type": "stream",
          "name": "stdout",
          "text": [
            "1\n",
            "2\n",
            "3\n"
          ]
        }
      ]
    },
    {
      "cell_type": "code",
      "source": [
        "g = gen()\n",
        "print(next(g))\n",
        "print(next(g))\n",
        "print(next(g))"
      ],
      "metadata": {
        "colab": {
          "base_uri": "https://localhost:8080/"
        },
        "id": "5jHGBj11bMQd",
        "outputId": "aed9ac4f-2c8e-4e80-a7fc-90f44c29b663"
      },
      "execution_count": 57,
      "outputs": [
        {
          "output_type": "stream",
          "name": "stdout",
          "text": [
            "1\n",
            "2\n",
            "3\n"
          ]
        }
      ]
    },
    {
      "cell_type": "code",
      "source": [
        "def gen_even(n):\n",
        "  for i in range(n):\n",
        "    if i % 2 == 0:\n",
        "      yield i\n",
        "\n",
        "for i in gen_even(10):\n",
        "  print(i)    # 짝수만 yield"
      ],
      "metadata": {
        "colab": {
          "base_uri": "https://localhost:8080/"
        },
        "id": "BOC6SzNLcJUo",
        "outputId": "5de6e313-fbb2-4855-fb5e-4ae3dcf67fe3"
      },
      "execution_count": 58,
      "outputs": [
        {
          "output_type": "stream",
          "name": "stdout",
          "text": [
            "0\n",
            "2\n",
            "4\n",
            "6\n",
            "8\n"
          ]
        }
      ]
    },
    {
      "cell_type": "code",
      "source": [
        ""
      ],
      "metadata": {
        "id": "_-cjFkDIcbFO"
      },
      "execution_count": null,
      "outputs": []
    }
  ]
}