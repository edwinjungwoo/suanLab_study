{
  "nbformat": 4,
  "nbformat_minor": 0,
  "metadata": {
    "colab": {
      "name": "CLASS_suanLab.ipynb",
      "provenance": [],
      "collapsed_sections": []
    },
    "kernelspec": {
      "name": "python3",
      "display_name": "Python 3"
    },
    "language_info": {
      "name": "python"
    }
  },
  "cells": [
    {
      "cell_type": "markdown",
      "source": [
        "클래스(Class)\n",
        "* 객체의 구성 요소를 담는 개념\n",
        "* 여러 Attrvute와 Method를 포함하는 개념\n",
        "* 객체를 정의하는 틀 또는 설계도\n",
        "* 실제 생성된 객체는 Instance"
      ],
      "metadata": {
        "id": "2cbqV63mnrh6"
      }
    },
    {
      "cell_type": "code",
      "execution_count": 1,
      "metadata": {
        "id": "xrYrafVsmKwO"
      },
      "outputs": [],
      "source": [
        "class Book(object):\n",
        "  author = \"\"\n",
        "  title = \"\"\n",
        "  publisher = \"\"\n",
        "  date = \"\""
      ]
    },
    {
      "cell_type": "code",
      "source": [
        "book = Book()    # instance 할당"
      ],
      "metadata": {
        "id": "gEzzW942oUnf"
      },
      "execution_count": 2,
      "outputs": []
    },
    {
      "cell_type": "code",
      "source": [
        "book.author = 'Jungwoo'\n",
        "print(book.author)"
      ],
      "metadata": {
        "colab": {
          "base_uri": "https://localhost:8080/"
        },
        "id": "pGZuUdcRocRn",
        "outputId": "26ec1063-0e3b-48b5-80d1-efecd25eb158"
      },
      "execution_count": 3,
      "outputs": [
        {
          "output_type": "stream",
          "name": "stdout",
          "text": [
            "Jungwoo\n"
          ]
        }
      ]
    },
    {
      "cell_type": "code",
      "source": [
        "book.title = \"Python Programming\"\n",
        "print(book.title)"
      ],
      "metadata": {
        "colab": {
          "base_uri": "https://localhost:8080/"
        },
        "id": "O5hzYV3sojAf",
        "outputId": "e26ba9e5-9fce-4080-bde1-a3e2ce7526bf"
      },
      "execution_count": 4,
      "outputs": [
        {
          "output_type": "stream",
          "name": "stdout",
          "text": [
            "Python Programming\n"
          ]
        }
      ]
    },
    {
      "cell_type": "code",
      "source": [
        "class Book(object):\n",
        "  author = \"\"\n",
        "  title = \"\"\n",
        "  publisher = \"\"\n",
        "  date = \"\"\n",
        "\n",
        "  def print_info(self):    # self가 있어야 메소드로 인식, instance를 말함!!\n",
        "    print(\"Author: \", self.author)\n",
        "    print(\"Title: \", self.title)"
      ],
      "metadata": {
        "id": "upxjVegvoqKP"
      },
      "execution_count": 5,
      "outputs": []
    },
    {
      "cell_type": "code",
      "source": [
        "book = Book()\n",
        "book.author = 'Jungwoo'\n",
        "book.title = \"Python Programming\"\n",
        "book.print_info()    # 위의 self는 book를 가리킴"
      ],
      "metadata": {
        "colab": {
          "base_uri": "https://localhost:8080/"
        },
        "id": "0XZJra3rpNhg",
        "outputId": "c57fb7de-4ecb-4a75-9509-4f04a4e27760"
      },
      "execution_count": 8,
      "outputs": [
        {
          "output_type": "stream",
          "name": "stdout",
          "text": [
            "Author:  Jungwoo\n",
            "Title:  Python Programming\n"
          ]
        }
      ]
    },
    {
      "cell_type": "code",
      "source": [
        "# 인스턴스 속성\n",
        "\n",
        "class Book(object):\n",
        "  author = \"\"\n",
        "  title = \"\"\n",
        "  publisher = \"\"\n",
        "  date = \"\"\n",
        "\n",
        "  def print_info(self):   \n",
        "    print(\"Author: \", self.author)\n",
        "    print(\"Title: \", self.title)\n",
        "    print(\"Publisher: \", self.publisher)\n",
        "    print(\"Date: \", self.date)"
      ],
      "metadata": {
        "id": "z67xJxhgpTQn"
      },
      "execution_count": 10,
      "outputs": []
    },
    {
      "cell_type": "code",
      "source": [
        "b1 = Book()\n",
        "b1.author = \"Jungwoo\"\n",
        "b1.title = \"Python Programming\"\n",
        "b1.publisher = \"Colab\"\n",
        "b1.date = \"20220515\"\n",
        "b1.print_info()"
      ],
      "metadata": {
        "colab": {
          "base_uri": "https://localhost:8080/"
        },
        "id": "T4m2XkXpp0MK",
        "outputId": "dd5ff56d-e3dd-4d70-b117-8a18a7f7d8dd"
      },
      "execution_count": 12,
      "outputs": [
        {
          "output_type": "stream",
          "name": "stdout",
          "text": [
            "Author:  Jungwoo\n",
            "Title:  Python Programming\n",
            "Publisher:  Colab\n",
            "Date:  20220515\n"
          ]
        }
      ]
    },
    {
      "cell_type": "code",
      "source": [
        "# 클래스 속성\n",
        "\n",
        "class Book(object):\n",
        "  author = \"\"\n",
        "  title = \"\"\n",
        "  publisher = \"\"\n",
        "  date = \"\"\n",
        "\n",
        "  def print_info(self):   \n",
        "    print(\"Author: \", self.author)\n",
        "    print(\"Title: \", self.title)\n",
        "    print(\"Publisher: \", self.publisher)\n",
        "    print(\"Date: \", self.date)\n",
        "  \n",
        "b1 = Book()\n",
        "# 클래스(Book) 속성에 접근해도 실행됨\n",
        "Book.author = \"Jungwoo\"\n",
        "Book.title = \"Python Programming\"\n",
        "Book.publisher = \"Colab\"\n",
        "Book.date = \"20220515\"\n",
        "b1.print_info()"
      ],
      "metadata": {
        "colab": {
          "base_uri": "https://localhost:8080/"
        },
        "id": "W_uecyPTqO3F",
        "outputId": "6543733d-28f8-4237-bec8-efd6e3bd4c95"
      },
      "execution_count": 13,
      "outputs": [
        {
          "output_type": "stream",
          "name": "stdout",
          "text": [
            "Author:  Jungwoo\n",
            "Title:  Python Programming\n",
            "Publisher:  Colab\n",
            "Date:  20220515\n"
          ]
        }
      ]
    },
    {
      "cell_type": "code",
      "source": [
        "# 클래스 속성은 모든 인스턴스가 공유해서 사용\n",
        "class Book(object):\n",
        "  author = \"\"\n",
        "  title = \"\"\n",
        "  publisher = \"\"\n",
        "  date = \"\"\n",
        "  count = 0\n",
        "\n",
        "  def print_info(self):   \n",
        "    print(\"Author: \", self.author)\n",
        "    print(\"Title: \", self.title)\n",
        "    print(\"Publisher: \", self.publisher)\n",
        "    print(\"Date: \", self.date)"
      ],
      "metadata": {
        "id": "NBPdI8sBqqGq"
      },
      "execution_count": 17,
      "outputs": []
    },
    {
      "cell_type": "code",
      "source": [
        "b1 = Book()\n",
        "Book.count += 1\n",
        "b1.author = \"Jungwoo\"\n",
        "b1.title = \"Python Programming\"\n",
        "b1.publisher = \"Colab\"\n",
        "b1.date = \"20220515\"\n",
        "b1.print_info()\n",
        "print(\"# of Books: \", str(Book.count))"
      ],
      "metadata": {
        "colab": {
          "base_uri": "https://localhost:8080/"
        },
        "id": "IkXo66T8q-o_",
        "outputId": "4598ecec-beb8-4edf-b37b-e2aa6068bd04"
      },
      "execution_count": 18,
      "outputs": [
        {
          "output_type": "stream",
          "name": "stdout",
          "text": [
            "Author:  Jungwoo\n",
            "Title:  Python Programming\n",
            "Publisher:  Colab\n",
            "Date:  20220515\n",
            "# of Books:  1\n"
          ]
        }
      ]
    },
    {
      "cell_type": "code",
      "source": [
        "# 클래스 매직 메소드 (__**__)\n",
        "class Book(object):\n",
        "  count = 0\n",
        "\n",
        "  def __init__(self, author, title, publisher, date):\n",
        "    self.author = author\n",
        "    self.title = title\n",
        "    self.publisher = publisher\n",
        "    self.date = date\n",
        "    Book.count += 1    # 생성될 때마다 셈\n",
        "\n",
        "  def print_info(self):   \n",
        "    print(\"Author: \", self.author)\n",
        "    print(\"Title: \", self.title)\n",
        "    print(\"Publisher: \", self.publisher)\n",
        "    print(\"Date: \", self.date)"
      ],
      "metadata": {
        "id": "H4Nj67KurCEs"
      },
      "execution_count": 19,
      "outputs": []
    },
    {
      "cell_type": "code",
      "source": [
        "book = Book(\"Jungwoo\", \"Python Programming\", \"Colab\", \"20220515\")    # 매핑해서 전달\n",
        "book.print_info()\n",
        "print(\"# of Books: \", str(Book.count))"
      ],
      "metadata": {
        "colab": {
          "base_uri": "https://localhost:8080/"
        },
        "id": "br6gkFjksUI9",
        "outputId": "9381b547-8a2f-43ca-afca-01e53c99f001"
      },
      "execution_count": 22,
      "outputs": [
        {
          "output_type": "stream",
          "name": "stdout",
          "text": [
            "Author:  Jungwoo\n",
            "Title:  Python Programming\n",
            "Publisher:  Colab\n",
            "Date:  20220515\n",
            "# of Books:  3\n"
          ]
        }
      ]
    },
    {
      "cell_type": "code",
      "source": [
        "class Book(object):\n",
        "  count = 0\n",
        "\n",
        "  def __init__(self, author, title, publisher, date):\n",
        "    self.author = author\n",
        "    self.title = title\n",
        "    self.publisher = publisher\n",
        "    self.date = date\n",
        "    Book.count += 1    # 생성될 때마다 셈\n",
        "\n",
        "  def __str__(self):\n",
        "    return (\"Author: \" + self.author + \\\n",
        "            \"\\nTitle: \" + self.title + \\\n",
        "            \"\\nPublisher: \" + self.publisher + \\\n",
        "            \"\\nDate: \" + self.date)\n"
      ],
      "metadata": {
        "id": "cpvKBdgushZL"
      },
      "execution_count": 27,
      "outputs": []
    },
    {
      "cell_type": "code",
      "source": [
        "book = Book(\"Jungwoo\", \"Python Programming\", \"Colab\", \"20220515\")    # 매핑해서 전달\n",
        "print(book)    # 바로 출력\n",
        "print(\"# of Books: \", str(Book.count))"
      ],
      "metadata": {
        "colab": {
          "base_uri": "https://localhost:8080/"
        },
        "id": "IQXX0-86tRuQ",
        "outputId": "5c37992a-3d43-4abf-ce84-d13407626031"
      },
      "execution_count": 28,
      "outputs": [
        {
          "output_type": "stream",
          "name": "stdout",
          "text": [
            "Author: Jungwoo\n",
            "Title: Python Programming\n",
            "Publisher: Colab\n",
            "Date: 20220515\n",
            "# of Books:  1\n"
          ]
        }
      ]
    },
    {
      "cell_type": "code",
      "source": [
        "class Line(object):\n",
        "  length = 0\n",
        "\n",
        "  def __init__(self, length):\n",
        "    self.length = length\n",
        "    print(self.length, \"길이의 선 생성\")\n",
        "  \n",
        "  def __del__(self):\n",
        "    print(self.length, \"길이의 선 제거\")\n",
        "  \n",
        "  def __repr__(self):\n",
        "    return str(self.length)\n",
        "  \n",
        "  def __add__(self, other):\n",
        "    return self.length + other.length\n",
        "\n",
        "  def __lt__(self, other):\n",
        "    return self.length < other.length\n",
        "\n",
        "  def __le__(self, other):\n",
        "    return self.length <= other.length  \n",
        "  \n",
        "  def __gt__(self, other):\n",
        "    return self.length > other.length\n",
        "\n",
        "  def __ge__(self, other):\n",
        "    return self.length >= other.length\n",
        "\n",
        "  def __eq__(self, other):\n",
        "    return self.length == other.length\n",
        "\n",
        "  def __ne__(self, other):\n",
        "    return self.length != other.length\n"
      ],
      "metadata": {
        "id": "5K6HyXV2tWEU"
      },
      "execution_count": 30,
      "outputs": []
    },
    {
      "cell_type": "code",
      "source": [
        "l1 = Line(10)\n",
        "print(l1)\n",
        "\n",
        "l2 = Line(20)\n",
        "print(l2)"
      ],
      "metadata": {
        "colab": {
          "base_uri": "https://localhost:8080/"
        },
        "id": "3x4HrATHuiRO",
        "outputId": "0ed5b750-571e-4b93-e1f8-dd56c5a0c744"
      },
      "execution_count": 32,
      "outputs": [
        {
          "output_type": "stream",
          "name": "stdout",
          "text": [
            "10 길이의 선 생성\n",
            "10\n",
            "20 길이의 선 생성\n",
            "20\n"
          ]
        }
      ]
    },
    {
      "cell_type": "code",
      "source": [
        "print(\"선의 합:\", l1 + l2)\n",
        "\n",
        "if l1 < l2:\n",
        "  print(l1, '<', l2)\n",
        "elif l1 <= 12:\n",
        "  print(l1, '<=', l2)\n",
        "elif l1 > l2:\n",
        "  print(l1, '>', l2)\n",
        "elif l1 >= 12:\n",
        "  print(l1, '>=', l2)\n",
        "elif l1 == 12:\n",
        "  print(l1, '==', l2)\n",
        "elif l1 != l2:\n",
        "  print(l1, '!=', l2)\n",
        "else:\n",
        "  pass"
      ],
      "metadata": {
        "colab": {
          "base_uri": "https://localhost:8080/"
        },
        "id": "HkxYvFvqu-jZ",
        "outputId": "edaed51a-d53b-4ce5-8522-85b600a1d909"
      },
      "execution_count": 34,
      "outputs": [
        {
          "output_type": "stream",
          "name": "stdout",
          "text": [
            "선의 합: 30\n",
            "10 < 20\n"
          ]
        }
      ]
    },
    {
      "cell_type": "code",
      "source": [
        "# __items 속성은 Box 객체 외부에서 보이지 않도록 캡슐화와 정보 은닉 가능\n",
        "\n",
        "class Box(object):\n",
        "  def __init__(self, name):\n",
        "    self.name = name\n",
        "    self.__items = []    # 초기화\n",
        "\n",
        "  def add_item(self, item):\n",
        "    self.__items.append(item)\n",
        "    print(\"아이템 추가\")\n",
        "\n",
        "  def get_number_of_items(self):\n",
        "    return len(self.__items)    # 개수는 알지만 내용은 은닉"
      ],
      "metadata": {
        "id": "6iZ7v1lpvN2m"
      },
      "execution_count": 39,
      "outputs": []
    },
    {
      "cell_type": "code",
      "source": [
        "box = Box(\"Box\")\n",
        "box.add_item(\"Item1\")\n",
        "box.add_item(\"Item2\")\n",
        "print(box.name)\n",
        "print(box.get_number_of_items())\n",
        "# print(box.__items) 외부에서 비공개라 출력 불가"
      ],
      "metadata": {
        "colab": {
          "base_uri": "https://localhost:8080/"
        },
        "id": "vrSUy_pywfNL",
        "outputId": "1efca2f3-07f8-4ad1-f5d1-c731bf74828d"
      },
      "execution_count": 43,
      "outputs": [
        {
          "output_type": "stream",
          "name": "stdout",
          "text": [
            "아이템 추가\n",
            "아이템 추가\n",
            "Box\n",
            "2\n"
          ]
        }
      ]
    },
    {
      "cell_type": "code",
      "source": [
        "# 클래스 상속\n",
        "\n",
        "class SuperClass(object):\n",
        "  pass\n",
        "\n",
        "class SubClass(SuperClass):\n",
        "  pass"
      ],
      "metadata": {
        "id": "IeQImeA4wktZ"
      },
      "execution_count": 44,
      "outputs": []
    },
    {
      "cell_type": "code",
      "source": [
        "# 메소드 오버라이딩\n",
        "\n",
        "class SuperClass(object):\n",
        "  def method(self):\n",
        "    pass    # abstract class\n",
        "\n",
        "class SubClass1(SuperClass):\n",
        "  def method(self):\n",
        "    print(\"Method Overriding\")\n",
        "\n",
        "class SubClass2(SuperClass):\n",
        "  pass"
      ],
      "metadata": {
        "id": "69ubJMGMxN62"
      },
      "execution_count": 48,
      "outputs": []
    },
    {
      "cell_type": "code",
      "source": [
        "sub1 = SubClass1()\n",
        "sub2 = SubClass2()\n",
        "\n",
        "sub1.method()\n",
        "sub2.method()"
      ],
      "metadata": {
        "colab": {
          "base_uri": "https://localhost:8080/"
        },
        "id": "Qpq-r_M8xnI3",
        "outputId": "8c13e2f9-6fab-4156-9fa4-f70c73426370"
      },
      "execution_count": 49,
      "outputs": [
        {
          "output_type": "stream",
          "name": "stdout",
          "text": [
            "Method Overriding\n"
          ]
        }
      ]
    },
    {
      "cell_type": "code",
      "source": [
        "class Vehicle(object):\n",
        "  speed = 0\n",
        "  def up_speed(self, value):\n",
        "    self.speed += value\n",
        "\n",
        "  def down_speed(self, value):\n",
        "    self.speed -= value\n",
        "  \n",
        "  def print_speed(self):\n",
        "    print(\"Speed: \", str(self.speed))\n",
        "\n",
        "\n",
        "class Car(Vehicle):\n",
        "  def up_speed(self, value):\n",
        "    self.speed += value\n",
        "    if self.speed > 240:\n",
        "      self.speed = 240\n",
        "\n",
        "class Truck(Vehicle):\n",
        "  def up_speed(self, value):\n",
        "    self.speed += value\n",
        "    if self.speed > 180:\n",
        "      self.speed = 180\n"
      ],
      "metadata": {
        "id": "7plISvcyxurj"
      },
      "execution_count": 60,
      "outputs": []
    },
    {
      "cell_type": "code",
      "source": [
        "car = Car()\n",
        "car.up_speed(300)\n",
        "car.print_speed()"
      ],
      "metadata": {
        "colab": {
          "base_uri": "https://localhost:8080/"
        },
        "id": "SPp9anVsyS0l",
        "outputId": "c1498cec-f977-4e3b-8d87-ec9e5ced5dfe"
      },
      "execution_count": 61,
      "outputs": [
        {
          "output_type": "stream",
          "name": "stdout",
          "text": [
            "Speed:  240\n"
          ]
        }
      ]
    },
    {
      "cell_type": "code",
      "source": [
        "truck = Truck()\n",
        "truck.up_speed(179)\n",
        "truck.print_speed()"
      ],
      "metadata": {
        "colab": {
          "base_uri": "https://localhost:8080/"
        },
        "id": "yGNT1Pony9P8",
        "outputId": "95b0f68c-680f-4e25-c6e4-03f16c5f31ef"
      },
      "execution_count": 62,
      "outputs": [
        {
          "output_type": "stream",
          "name": "stdout",
          "text": [
            "Speed:  179\n"
          ]
        }
      ]
    },
    {
      "cell_type": "code",
      "source": [
        ""
      ],
      "metadata": {
        "id": "e5X1qCgfzRCp"
      },
      "execution_count": null,
      "outputs": []
    }
  ]
}